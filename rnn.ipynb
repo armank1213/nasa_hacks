{
 "cells": [
  {
   "cell_type": "code",
   "execution_count": 1,
   "id": "3450b200",
   "metadata": {},
   "outputs": [],
   "source": [
    "import os\n",
    "from datetime import datetime\n",
    "import pandas as pd\n",
    "import numpy as np\n",
    "import matplotlib.pyplot as plt\n",
    "import tensorflow as tf\n",
    "from tensorflow import keras\n",
    "from tensorflow.keras.models import Sequential\n",
    "from tensorflow.keras.layers import LSTM, Dense, Dropout, Bidirectional\n",
    "from tensorflow.keras.callbacks import EarlyStopping, ModelCheckpoint, ReduceLROnPlateau\n",
    "from sklearn.preprocessing import StandardScaler, LabelEncoder\n",
    "from sklearn.model_selection import train_test_split\n",
    "import warnings\n",
    "warnings.filterwarnings('ignore')"
   ]
  },
  {
   "cell_type": "code",
   "execution_count": 3,
   "id": "57c7fb16",
   "metadata": {},
   "outputs": [
    {
     "data": {
      "text/html": [
       "<div>\n",
       "<style scoped>\n",
       "    .dataframe tbody tr th:only-of-type {\n",
       "        vertical-align: middle;\n",
       "    }\n",
       "\n",
       "    .dataframe tbody tr th {\n",
       "        vertical-align: top;\n",
       "    }\n",
       "\n",
       "    .dataframe thead th {\n",
       "        text-align: right;\n",
       "    }\n",
       "</style>\n",
       "<table border=\"1\" class=\"dataframe\">\n",
       "  <thead>\n",
       "    <tr style=\"text-align: right;\">\n",
       "      <th></th>\n",
       "      <th>country</th>\n",
       "      <th>location_name</th>\n",
       "      <th>latitude</th>\n",
       "      <th>longitude</th>\n",
       "      <th>timezone</th>\n",
       "      <th>last_updated_epoch</th>\n",
       "      <th>last_updated</th>\n",
       "      <th>temperature_celsius</th>\n",
       "      <th>temperature_fahrenheit</th>\n",
       "      <th>condition_text</th>\n",
       "      <th>...</th>\n",
       "      <th>air_quality_PM2.5</th>\n",
       "      <th>air_quality_PM10</th>\n",
       "      <th>air_quality_us-epa-index</th>\n",
       "      <th>air_quality_gb-defra-index</th>\n",
       "      <th>sunrise</th>\n",
       "      <th>sunset</th>\n",
       "      <th>moonrise</th>\n",
       "      <th>moonset</th>\n",
       "      <th>moon_phase</th>\n",
       "      <th>moon_illumination</th>\n",
       "    </tr>\n",
       "  </thead>\n",
       "  <tbody>\n",
       "    <tr>\n",
       "      <th>0</th>\n",
       "      <td>Afghanistan</td>\n",
       "      <td>Kabul</td>\n",
       "      <td>34.52</td>\n",
       "      <td>69.18</td>\n",
       "      <td>Asia/Kabul</td>\n",
       "      <td>1715849100</td>\n",
       "      <td>2024-05-16 13:15</td>\n",
       "      <td>26.6</td>\n",
       "      <td>79.8</td>\n",
       "      <td>Partly Cloudy</td>\n",
       "      <td>...</td>\n",
       "      <td>8.4</td>\n",
       "      <td>26.6</td>\n",
       "      <td>1</td>\n",
       "      <td>1</td>\n",
       "      <td>04:50 AM</td>\n",
       "      <td>06:50 PM</td>\n",
       "      <td>12:12 PM</td>\n",
       "      <td>01:11 AM</td>\n",
       "      <td>Waxing Gibbous</td>\n",
       "      <td>55</td>\n",
       "    </tr>\n",
       "    <tr>\n",
       "      <th>1</th>\n",
       "      <td>Albania</td>\n",
       "      <td>Tirana</td>\n",
       "      <td>41.33</td>\n",
       "      <td>19.82</td>\n",
       "      <td>Europe/Tirane</td>\n",
       "      <td>1715849100</td>\n",
       "      <td>2024-05-16 10:45</td>\n",
       "      <td>19.0</td>\n",
       "      <td>66.2</td>\n",
       "      <td>Partly cloudy</td>\n",
       "      <td>...</td>\n",
       "      <td>1.1</td>\n",
       "      <td>2.0</td>\n",
       "      <td>1</td>\n",
       "      <td>1</td>\n",
       "      <td>05:21 AM</td>\n",
       "      <td>07:54 PM</td>\n",
       "      <td>12:58 PM</td>\n",
       "      <td>02:14 AM</td>\n",
       "      <td>Waxing Gibbous</td>\n",
       "      <td>55</td>\n",
       "    </tr>\n",
       "    <tr>\n",
       "      <th>2</th>\n",
       "      <td>Algeria</td>\n",
       "      <td>Algiers</td>\n",
       "      <td>36.76</td>\n",
       "      <td>3.05</td>\n",
       "      <td>Africa/Algiers</td>\n",
       "      <td>1715849100</td>\n",
       "      <td>2024-05-16 09:45</td>\n",
       "      <td>23.0</td>\n",
       "      <td>73.4</td>\n",
       "      <td>Sunny</td>\n",
       "      <td>...</td>\n",
       "      <td>10.4</td>\n",
       "      <td>18.4</td>\n",
       "      <td>1</td>\n",
       "      <td>1</td>\n",
       "      <td>05:40 AM</td>\n",
       "      <td>07:50 PM</td>\n",
       "      <td>01:15 PM</td>\n",
       "      <td>02:14 AM</td>\n",
       "      <td>Waxing Gibbous</td>\n",
       "      <td>55</td>\n",
       "    </tr>\n",
       "    <tr>\n",
       "      <th>3</th>\n",
       "      <td>Andorra</td>\n",
       "      <td>Andorra La Vella</td>\n",
       "      <td>42.50</td>\n",
       "      <td>1.52</td>\n",
       "      <td>Europe/Andorra</td>\n",
       "      <td>1715849100</td>\n",
       "      <td>2024-05-16 10:45</td>\n",
       "      <td>6.3</td>\n",
       "      <td>43.3</td>\n",
       "      <td>Light drizzle</td>\n",
       "      <td>...</td>\n",
       "      <td>0.7</td>\n",
       "      <td>0.9</td>\n",
       "      <td>1</td>\n",
       "      <td>1</td>\n",
       "      <td>06:31 AM</td>\n",
       "      <td>09:11 PM</td>\n",
       "      <td>02:12 PM</td>\n",
       "      <td>03:31 AM</td>\n",
       "      <td>Waxing Gibbous</td>\n",
       "      <td>55</td>\n",
       "    </tr>\n",
       "    <tr>\n",
       "      <th>4</th>\n",
       "      <td>Angola</td>\n",
       "      <td>Luanda</td>\n",
       "      <td>-8.84</td>\n",
       "      <td>13.23</td>\n",
       "      <td>Africa/Luanda</td>\n",
       "      <td>1715849100</td>\n",
       "      <td>2024-05-16 09:45</td>\n",
       "      <td>26.0</td>\n",
       "      <td>78.8</td>\n",
       "      <td>Partly cloudy</td>\n",
       "      <td>...</td>\n",
       "      <td>183.4</td>\n",
       "      <td>262.3</td>\n",
       "      <td>5</td>\n",
       "      <td>10</td>\n",
       "      <td>06:12 AM</td>\n",
       "      <td>05:55 PM</td>\n",
       "      <td>01:17 PM</td>\n",
       "      <td>12:38 AM</td>\n",
       "      <td>Waxing Gibbous</td>\n",
       "      <td>55</td>\n",
       "    </tr>\n",
       "  </tbody>\n",
       "</table>\n",
       "<p>5 rows × 41 columns</p>\n",
       "</div>"
      ],
      "text/plain": [
       "       country     location_name  latitude  longitude        timezone  \\\n",
       "0  Afghanistan             Kabul     34.52      69.18      Asia/Kabul   \n",
       "1      Albania            Tirana     41.33      19.82   Europe/Tirane   \n",
       "2      Algeria           Algiers     36.76       3.05  Africa/Algiers   \n",
       "3      Andorra  Andorra La Vella     42.50       1.52  Europe/Andorra   \n",
       "4       Angola            Luanda     -8.84      13.23   Africa/Luanda   \n",
       "\n",
       "   last_updated_epoch      last_updated  temperature_celsius  \\\n",
       "0          1715849100  2024-05-16 13:15                 26.6   \n",
       "1          1715849100  2024-05-16 10:45                 19.0   \n",
       "2          1715849100  2024-05-16 09:45                 23.0   \n",
       "3          1715849100  2024-05-16 10:45                  6.3   \n",
       "4          1715849100  2024-05-16 09:45                 26.0   \n",
       "\n",
       "   temperature_fahrenheit condition_text  ...  air_quality_PM2.5  \\\n",
       "0                    79.8  Partly Cloudy  ...                8.4   \n",
       "1                    66.2  Partly cloudy  ...                1.1   \n",
       "2                    73.4          Sunny  ...               10.4   \n",
       "3                    43.3  Light drizzle  ...                0.7   \n",
       "4                    78.8  Partly cloudy  ...              183.4   \n",
       "\n",
       "   air_quality_PM10  air_quality_us-epa-index air_quality_gb-defra-index  \\\n",
       "0              26.6                         1                          1   \n",
       "1               2.0                         1                          1   \n",
       "2              18.4                         1                          1   \n",
       "3               0.9                         1                          1   \n",
       "4             262.3                         5                         10   \n",
       "\n",
       "    sunrise    sunset  moonrise   moonset      moon_phase  moon_illumination  \n",
       "0  04:50 AM  06:50 PM  12:12 PM  01:11 AM  Waxing Gibbous                 55  \n",
       "1  05:21 AM  07:54 PM  12:58 PM  02:14 AM  Waxing Gibbous                 55  \n",
       "2  05:40 AM  07:50 PM  01:15 PM  02:14 AM  Waxing Gibbous                 55  \n",
       "3  06:31 AM  09:11 PM  02:12 PM  03:31 AM  Waxing Gibbous                 55  \n",
       "4  06:12 AM  05:55 PM  01:17 PM  12:38 AM  Waxing Gibbous                 55  \n",
       "\n",
       "[5 rows x 41 columns]"
      ]
     },
     "execution_count": 3,
     "metadata": {},
     "output_type": "execute_result"
    }
   ],
   "source": [
    "df = pd.read_csv('/Users/armankhan/code/nasa_hacks/csv/GlobalWeatherRepository.csv')\n",
    "\n",
    "df.head()"
   ]
  },
  {
   "cell_type": "code",
   "execution_count": 4,
   "id": "bba6bbad",
   "metadata": {},
   "outputs": [
    {
     "name": "stdout",
     "output_type": "stream",
     "text": [
      "Dataset Info:\n",
      "<class 'pandas.core.frame.DataFrame'>\n",
      "RangeIndex: 98604 entries, 0 to 98603\n",
      "Data columns (total 41 columns):\n",
      " #   Column                        Non-Null Count  Dtype  \n",
      "---  ------                        --------------  -----  \n",
      " 0   country                       98604 non-null  object \n",
      " 1   location_name                 98604 non-null  object \n",
      " 2   latitude                      98604 non-null  float64\n",
      " 3   longitude                     98604 non-null  float64\n",
      " 4   timezone                      98604 non-null  object \n",
      " 5   last_updated_epoch            98604 non-null  int64  \n",
      " 6   last_updated                  98604 non-null  object \n",
      " 7   temperature_celsius           98604 non-null  float64\n",
      " 8   temperature_fahrenheit        98604 non-null  float64\n",
      " 9   condition_text                98604 non-null  object \n",
      " 10  wind_mph                      98604 non-null  float64\n",
      " 11  wind_kph                      98604 non-null  float64\n",
      " 12  wind_degree                   98604 non-null  int64  \n",
      " 13  wind_direction                98604 non-null  object \n",
      " 14  pressure_mb                   98604 non-null  float64\n",
      " 15  pressure_in                   98604 non-null  float64\n",
      " 16  precip_mm                     98604 non-null  float64\n",
      " 17  precip_in                     98604 non-null  float64\n",
      " 18  humidity                      98604 non-null  int64  \n",
      " 19  cloud                         98604 non-null  int64  \n",
      " 20  feels_like_celsius            98604 non-null  float64\n",
      " 21  feels_like_fahrenheit         98604 non-null  float64\n",
      " 22  visibility_km                 98604 non-null  float64\n",
      " 23  visibility_miles              98604 non-null  float64\n",
      " 24  uv_index                      98604 non-null  float64\n",
      " 25  gust_mph                      98604 non-null  float64\n",
      " 26  gust_kph                      98604 non-null  float64\n",
      " 27  air_quality_Carbon_Monoxide   98604 non-null  float64\n",
      " 28  air_quality_Ozone             98604 non-null  float64\n",
      " 29  air_quality_Nitrogen_dioxide  98604 non-null  float64\n",
      " 30  air_quality_Sulphur_dioxide   98604 non-null  float64\n",
      " 31  air_quality_PM2.5             98604 non-null  float64\n",
      " 32  air_quality_PM10              98604 non-null  float64\n",
      " 33  air_quality_us-epa-index      98604 non-null  int64  \n",
      " 34  air_quality_gb-defra-index    98604 non-null  int64  \n",
      " 35  sunrise                       98604 non-null  object \n",
      " 36  sunset                        98604 non-null  object \n",
      " 37  moonrise                      98604 non-null  object \n",
      " 38  moonset                       98604 non-null  object \n",
      " 39  moon_phase                    98604 non-null  object \n",
      " 40  moon_illumination             98604 non-null  int64  \n",
      "dtypes: float64(23), int64(7), object(11)\n",
      "memory usage: 30.8+ MB\n",
      "None\n",
      "\n",
      "======================================================================\n",
      "\n",
      "Missing Values:\n",
      "country                         0\n",
      "feels_like_fahrenheit           0\n",
      "visibility_miles                0\n",
      "uv_index                        0\n",
      "gust_mph                        0\n",
      "gust_kph                        0\n",
      "air_quality_Carbon_Monoxide     0\n",
      "air_quality_Ozone               0\n",
      "air_quality_Nitrogen_dioxide    0\n",
      "air_quality_Sulphur_dioxide     0\n",
      "air_quality_PM2.5               0\n",
      "air_quality_PM10                0\n",
      "air_quality_us-epa-index        0\n",
      "air_quality_gb-defra-index      0\n",
      "sunrise                         0\n",
      "sunset                          0\n",
      "moonrise                        0\n",
      "moonset                         0\n",
      "moon_phase                      0\n",
      "visibility_km                   0\n",
      "dtype: int64\n",
      "\n",
      "======================================================================\n",
      "\n",
      "Unique Countries: 211\n",
      "Unique Locations: 254\n"
     ]
    }
   ],
   "source": [
    "print(\"Dataset Info:\")\n",
    "print(df.info())\n",
    "print(\"\\n\" + \"=\"*70)\n",
    "print(\"\\nMissing Values:\")\n",
    "print(df.isnull().sum().sort_values(ascending=False).head(20))\n",
    "print(\"\\n\" + \"=\"*70)\n",
    "print(f\"\\nUnique Countries: {df['country'].nunique()}\")\n",
    "print(f\"Unique Locations: {df['location_name'].nunique()}\")\n"
   ]
  },
  {
   "cell_type": "code",
   "execution_count": 5,
   "id": "1bddbe7d",
   "metadata": {},
   "outputs": [
    {
     "name": "stdout",
     "output_type": "stream",
     "text": [
      "Date range: 2024-05-16 01:45:00 to 2025-10-05 19:30:00\n",
      "Total days of data: 507\n"
     ]
    }
   ],
   "source": [
    "df['last_updated'] = pd.to_datetime(df['last_updated'])\n",
    "df = df.sort_values(['location_name', 'last_updated']).reset_index(drop=True)\n",
    "\n",
    "print(f\"Date range: {df['last_updated'].min()} to {df['last_updated'].max()}\")\n",
    "print(f\"Total days of data: {(df['last_updated'].max() - df['last_updated'].min()).days}\")\n"
   ]
  },
  {
   "cell_type": "code",
   "execution_count": 6,
   "id": "5d4b8dc6",
   "metadata": {},
   "outputs": [
    {
     "name": "stdout",
     "output_type": "stream",
     "text": [
      "Temporal features created!\n",
      "Sample:          last_updated     month_sin  month_cos  hour_sin  hour_cos\n",
      "0 2024-05-31 16:15:00  5.000000e-01  -0.866025 -0.866025      -0.5\n",
      "1 2024-06-01 16:30:00  1.224647e-16  -1.000000 -0.866025      -0.5\n",
      "2 2024-06-04 16:15:00  1.224647e-16  -1.000000 -0.866025      -0.5\n",
      "3 2024-06-05 16:15:00  1.224647e-16  -1.000000 -0.866025      -0.5\n",
      "4 2024-06-11 16:15:00  1.224647e-16  -1.000000 -0.866025      -0.5\n"
     ]
    }
   ],
   "source": [
    "# Extract temporal features\n",
    "df['year'] = df['last_updated'].dt.year\n",
    "df['month'] = df['last_updated'].dt.month\n",
    "df['day'] = df['last_updated'].dt.day\n",
    "df['hour'] = df['last_updated'].dt.hour\n",
    "df['day_of_week'] = df['last_updated'].dt.dayofweek\n",
    "df['day_of_year'] = df['last_updated'].dt.dayofyear\n",
    "\n",
    "# Cyclical encoding\n",
    "df['month_sin'] = np.sin(2 * np.pi * df['month'] / 12)\n",
    "df['month_cos'] = np.cos(2 * np.pi * df['month'] / 12)\n",
    "df['day_of_year_sin'] = np.sin(2 * np.pi * df['day_of_year'] / 365)\n",
    "df['day_of_year_cos'] = np.cos(2 * np.pi * df['day_of_year'] / 365)\n",
    "df['hour_sin'] = np.sin(2 * np.pi * df['hour'] / 24)\n",
    "df['hour_cos'] = np.cos(2 * np.pi * df['hour'] / 24)\n",
    "\n",
    "# Encode location\n",
    "le_location = LabelEncoder()\n",
    "df['location_encoded'] = le_location.fit_transform(df['location_name'])\n",
    "\n",
    "print(\"Temporal features created!\")\n",
    "print(f\"Sample: {df[['last_updated', 'month_sin', 'month_cos', 'hour_sin', 'hour_cos']].head()}\")\n"
   ]
  },
  {
   "cell_type": "code",
   "execution_count": 7,
   "id": "203a4d57",
   "metadata": {},
   "outputs": [
    {
     "name": "stdout",
     "output_type": "stream",
     "text": [
      "\n",
      "Total features for modeling: 30\n",
      "\n",
      "Feature list:\n",
      "['latitude', 'longitude', 'wind_kph', 'wind_degree', 'pressure_mb', 'precip_mm', 'humidity', 'cloud', 'feels_like_celsius', 'visibility_km', 'uv_index', 'gust_kph', 'air_quality_Carbon_Monoxide', 'air_quality_Ozone', 'air_quality_Nitrogen_dioxide', 'air_quality_Sulphur_dioxide', 'air_quality_PM2.5', 'air_quality_PM10', 'air_quality_us-epa-index', 'air_quality_gb-defra-index', 'moon_illumination', 'month', 'hour', 'month_sin', 'month_cos', 'day_of_year_sin', 'day_of_year_cos', 'hour_sin', 'hour_cos', 'location_encoded']\n"
     ]
    }
   ],
   "source": [
    "numeric_cols = df.select_dtypes(include=[np.number]).columns.tolist()\n",
    "\n",
    "# Remove columns we don't want as features\n",
    "exclude_cols = ['last_updated_epoch', 'year', 'day', 'day_of_week', 'day_of_year', \n",
    "                'temperature_fahrenheit', 'feels_like_fahrenheit', 'wind_mph', \n",
    "                'pressure_in', 'precip_in', 'visibility_miles', 'gust_mph']\n",
    "\n",
    "feature_cols = [col for col in numeric_cols if col not in exclude_cols]\n",
    "\n",
    "# Remove target from features\n",
    "target_col = 'temperature_celsius'\n",
    "feature_cols_final = [col for col in feature_cols if col != target_col]\n",
    "\n",
    "print(f\"\\nTotal features for modeling: {len(feature_cols_final)}\")\n",
    "print(f\"\\nFeature list:\\n{feature_cols_final}\")"
   ]
  },
  {
   "cell_type": "code",
   "execution_count": 8,
   "id": "5ba8151f",
   "metadata": {},
   "outputs": [
    {
     "name": "stdout",
     "output_type": "stream",
     "text": [
      "Missing values in features:\n",
      "Series([], dtype: int64)\n",
      "\n",
      "Dataset shape after handling missing values: (98604, 54)\n",
      "Remaining missing values: 0\n"
     ]
    }
   ],
   "source": [
    "print(\"Missing values in features:\")\n",
    "missing = df[feature_cols_final + [target_col]].isnull().sum()\n",
    "print(missing[missing > 0])\n",
    "\n",
    "# Fill missing values with forward fill by location\n",
    "for col in feature_cols_final + [target_col]:\n",
    "    df[col] = df.groupby('location_name')[col].fillna(method='ffill')\n",
    "    df[col] = df.groupby('location_name')[col].fillna(method='bfill')\n",
    "\n",
    "# Drop any remaining rows with missing values\n",
    "df = df.dropna(subset=feature_cols_final + [target_col])\n",
    "\n",
    "print(f\"\\nDataset shape after handling missing values: {df.shape}\")\n",
    "print(f\"Remaining missing values: {df[feature_cols_final + [target_col]].isnull().sum().sum()}\")"
   ]
  },
  {
   "cell_type": "code",
   "execution_count": 9,
   "id": "cab8b43c",
   "metadata": {},
   "outputs": [
    {
     "name": "stdout",
     "output_type": "stream",
     "text": [
      "Lag features created!\n"
     ]
    }
   ],
   "source": [
    "lag_periods = [1, 3, 7]  # 1 day, 3 days, 1 week\n",
    "weather_features = ['temperature_celsius', 'humidity', 'pressure_mb', 'wind_kph']\n",
    "\n",
    "for feature in weather_features:\n",
    "    for lag in lag_periods:\n",
    "        df[f'{feature}_lag_{lag}'] = df.groupby('location_name')[feature].shift(lag)\n",
    "\n",
    "print(f\"Lag features created!\")"
   ]
  },
  {
   "cell_type": "code",
   "execution_count": 11,
   "id": "2df54187",
   "metadata": {},
   "outputs": [
    {
     "name": "stdout",
     "output_type": "stream",
     "text": [
      "Rolling features created!\n"
     ]
    }
   ],
   "source": [
    "window_sizes = [3, 7]  # 3-day and 7-day windows\n",
    "\n",
    "for feature in weather_features:\n",
    "    for window in window_sizes:\n",
    "        df[f'{feature}_rolling_mean_{window}'] = df.groupby('location_name')[feature].transform(\n",
    "            lambda x: x.rolling(window=window, min_periods=1).mean()\n",
    "        )\n",
    "        df[f'{feature}_rolling_std_{window}'] = df.groupby('location_name')[feature].transform(\n",
    "            lambda x: x.rolling(window=window, min_periods=1).std()\n",
    "        )\n",
    "\n",
    "print(f\"Rolling features created!\")"
   ]
  },
  {
   "cell_type": "code",
   "execution_count": 12,
   "id": "02d9f649",
   "metadata": {},
   "outputs": [
    {
     "name": "stdout",
     "output_type": "stream",
     "text": [
      "\n",
      "Total features after lag/rolling: 58\n"
     ]
    }
   ],
   "source": [
    "lag_rolling_cols = [col for col in df.columns if ('lag' in col or 'rolling' in col)]\n",
    "feature_cols_final.extend(lag_rolling_cols)\n",
    "\n",
    "print(f\"\\nTotal features after lag/rolling: {len(feature_cols_final)}\")"
   ]
  },
  {
   "cell_type": "code",
   "execution_count": 13,
   "id": "42751b40",
   "metadata": {},
   "outputs": [
    {
     "name": "stdout",
     "output_type": "stream",
     "text": [
      "Final dataset shape: (98571, 82)\n"
     ]
    }
   ],
   "source": [
    "for col in lag_rolling_cols:\n",
    "    df[col] = df.groupby('location_name')[col].fillna(method='ffill')\n",
    "    df[col] = df.groupby('location_name')[col].fillna(method='bfill')\n",
    "\n",
    "df = df.dropna(subset=feature_cols_final + [target_col])\n",
    "\n",
    "print(f\"Final dataset shape: {df.shape}\")"
   ]
  },
  {
   "cell_type": "code",
   "execution_count": 14,
   "id": "9550d462",
   "metadata": {},
   "outputs": [
    {
     "name": "stdout",
     "output_type": "stream",
     "text": [
      "Data normalization completed!\n",
      "\n",
      "Scaled data sample:\n"
     ]
    },
    {
     "data": {
      "text/html": [
       "<div>\n",
       "<style scoped>\n",
       "    .dataframe tbody tr th:only-of-type {\n",
       "        vertical-align: middle;\n",
       "    }\n",
       "\n",
       "    .dataframe tbody tr th {\n",
       "        vertical-align: top;\n",
       "    }\n",
       "\n",
       "    .dataframe thead th {\n",
       "        text-align: right;\n",
       "    }\n",
       "</style>\n",
       "<table border=\"1\" class=\"dataframe\">\n",
       "  <thead>\n",
       "    <tr style=\"text-align: right;\">\n",
       "      <th></th>\n",
       "      <th>temperature_celsius</th>\n",
       "      <th>humidity</th>\n",
       "      <th>pressure_mb</th>\n",
       "    </tr>\n",
       "  </thead>\n",
       "  <tbody>\n",
       "    <tr>\n",
       "      <th>count</th>\n",
       "      <td>9.857100e+04</td>\n",
       "      <td>9.857100e+04</td>\n",
       "      <td>9.857100e+04</td>\n",
       "    </tr>\n",
       "    <tr>\n",
       "      <th>mean</th>\n",
       "      <td>-2.358600e-16</td>\n",
       "      <td>-2.686584e-16</td>\n",
       "      <td>3.391713e-15</td>\n",
       "    </tr>\n",
       "    <tr>\n",
       "      <th>std</th>\n",
       "      <td>1.000005e+00</td>\n",
       "      <td>1.000005e+00</td>\n",
       "      <td>1.000005e+00</td>\n",
       "    </tr>\n",
       "    <tr>\n",
       "      <th>min</th>\n",
       "      <td>-5.362718e+00</td>\n",
       "      <td>-2.575724e+00</td>\n",
       "      <td>-5.906066e+00</td>\n",
       "    </tr>\n",
       "    <tr>\n",
       "      <th>25%</th>\n",
       "      <td>-5.245777e-01</td>\n",
       "      <td>-7.140758e-01</td>\n",
       "      <td>-3.513974e-01</td>\n",
       "    </tr>\n",
       "    <tr>\n",
       "      <th>50%</th>\n",
       "      <td>2.405236e-01</td>\n",
       "      <td>1.960631e-01</td>\n",
       "      <td>-8.688935e-02</td>\n",
       "    </tr>\n",
       "    <tr>\n",
       "      <th>75%</th>\n",
       "      <td>6.230743e-01</td>\n",
       "      <td>8.166124e-01</td>\n",
       "      <td>3.539574e-01</td>\n",
       "    </tr>\n",
       "    <tr>\n",
       "      <th>max</th>\n",
       "      <td>2.974636e+00</td>\n",
       "      <td>1.478532e+00</td>\n",
       "      <td>1.756346e+02</td>\n",
       "    </tr>\n",
       "  </tbody>\n",
       "</table>\n",
       "</div>"
      ],
      "text/plain": [
       "       temperature_celsius      humidity   pressure_mb\n",
       "count         9.857100e+04  9.857100e+04  9.857100e+04\n",
       "mean         -2.358600e-16 -2.686584e-16  3.391713e-15\n",
       "std           1.000005e+00  1.000005e+00  1.000005e+00\n",
       "min          -5.362718e+00 -2.575724e+00 -5.906066e+00\n",
       "25%          -5.245777e-01 -7.140758e-01 -3.513974e-01\n",
       "50%           2.405236e-01  1.960631e-01 -8.688935e-02\n",
       "75%           6.230743e-01  8.166124e-01  3.539574e-01\n",
       "max           2.974636e+00  1.478532e+00  1.756346e+02"
      ]
     },
     "metadata": {},
     "output_type": "display_data"
    }
   ],
   "source": [
    "feature_scaler = StandardScaler()\n",
    "target_scaler = StandardScaler()\n",
    "\n",
    "# Scale features\n",
    "df_scaled = df.copy()\n",
    "df_scaled[feature_cols_final] = feature_scaler.fit_transform(df[feature_cols_final])\n",
    "\n",
    "# Scale target\n",
    "df_scaled[[target_col]] = target_scaler.fit_transform(df[[target_col]])\n",
    "\n",
    "print(\"Data normalization completed!\")\n",
    "print(f\"\\nScaled data sample:\")\n",
    "display(df_scaled[['temperature_celsius', 'humidity', 'pressure_mb']].describe())"
   ]
  },
  {
   "cell_type": "code",
   "execution_count": 15,
   "id": "a64d45ae",
   "metadata": {},
   "outputs": [],
   "source": [
    "def create_sequences(data, location, feature_cols, target_col, sequence_length=7):\n",
    "    \"\"\"Create sequences for LSTM training\"\"\"\n",
    "    location_data = data[data['location_name'] == location].copy()\n",
    "    \n",
    "    X, y = [], []\n",
    "    \n",
    "    for i in range(len(location_data) - sequence_length):\n",
    "        sequence = location_data.iloc[i:i+sequence_length][feature_cols].values\n",
    "        target = location_data.iloc[i+sequence_length][target_col]\n",
    "        \n",
    "        X.append(sequence)\n",
    "        y.append(target)\n",
    "    \n",
    "    return np.array(X), np.array(y)"
   ]
  },
  {
   "cell_type": "code",
   "execution_count": 17,
   "id": "b4fe30e7",
   "metadata": {},
   "outputs": [
    {
     "name": "stdout",
     "output_type": "stream",
     "text": [
      "Creating sequences for 221 locations...\n",
      "Processed 20/221 locations...\n",
      "Processed 40/221 locations...\n",
      "Processed 60/221 locations...\n",
      "Processed 80/221 locations...\n",
      "Processed 100/221 locations...\n",
      "Processed 120/221 locations...\n",
      "Processed 140/221 locations...\n",
      "Processed 160/221 locations...\n",
      "Processed 180/221 locations...\n",
      "Processed 200/221 locations...\n",
      "Processed 220/221 locations...\n"
     ]
    }
   ],
   "source": [
    "SEQUENCE_LENGTH = 7\n",
    "\n",
    "X_all, y_all = [], []\n",
    "locations = df_scaled['location_name'].unique()\n",
    "\n",
    "print(f\"Creating sequences for {len(locations)} locations...\")\n",
    "for i, location in enumerate(locations):\n",
    "    if (i + 1) % 20 == 0:\n",
    "        print(f\"Processed {i + 1}/{len(locations)} locations...\")\n",
    "    \n",
    "    X_loc, y_loc = create_sequences(df_scaled, location, feature_cols_final, \n",
    "                                     target_col, SEQUENCE_LENGTH)\n",
    "    if len(X_loc) > 0:\n",
    "        X_all.append(X_loc)\n",
    "        y_all.append(y_loc)"
   ]
  },
  {
   "cell_type": "code",
   "execution_count": 18,
   "id": "42ffcd6f",
   "metadata": {},
   "outputs": [
    {
     "name": "stdout",
     "output_type": "stream",
     "text": [
      "\n",
      "Sequence creation completed!\n",
      "X shape: (97024, 7, 58) (samples, time_steps, features)\n",
      "y shape: (97024,)\n"
     ]
    }
   ],
   "source": [
    "X_sequences = np.concatenate(X_all, axis=0)\n",
    "y_sequences = np.concatenate(y_all, axis=0)\n",
    "\n",
    "print(f\"\\nSequence creation completed!\")\n",
    "print(f\"X shape: {X_sequences.shape} (samples, time_steps, features)\")\n",
    "print(f\"y shape: {y_sequences.shape}\")"
   ]
  },
  {
   "cell_type": "code",
   "execution_count": 19,
   "id": "11461562",
   "metadata": {},
   "outputs": [],
   "source": [
    "X_train, X_temp, y_train, y_temp = train_test_split(\n",
    "    X_sequences, y_sequences, test_size=0.3, random_state=42, shuffle=True\n",
    ")\n",
    "\n",
    "X_val, X_test, y_val, y_test = train_test_split(\n",
    "    X_temp, y_temp, test_size=0.5, random_state=42, shuffle=True\n",
    ")"
   ]
  },
  {
   "cell_type": "code",
   "execution_count": 20,
   "id": "0bd1be6b",
   "metadata": {},
   "outputs": [
    {
     "name": "stdout",
     "output_type": "stream",
     "text": [
      "Data split completed!\n",
      "Training set: 67916 samples\n",
      "Validation set: 14554 samples\n",
      "Test set: 14554 samples\n",
      "Feature dimensions: 58\n"
     ]
    }
   ],
   "source": [
    "print(\"Data split completed!\")\n",
    "print(f\"Training set: {X_train.shape[0]} samples\")\n",
    "print(f\"Validation set: {X_val.shape[0]} samples\")\n",
    "print(f\"Test set: {X_test.shape[0]} samples\")\n",
    "print(f\"Feature dimensions: {X_train.shape[2]}\")"
   ]
  },
  {
   "cell_type": "code",
   "execution_count": 21,
   "id": "c16d29f8",
   "metadata": {},
   "outputs": [],
   "source": [
    "def build_lstm_model(input_shape):\n",
    "    \"\"\"Build LSTM model architecture\"\"\"\n",
    "    model = Sequential([\n",
    "        # First LSTM layer with return sequences\n",
    "        LSTM(128, return_sequences=True, input_shape=input_shape),\n",
    "        Dropout(0.2),\n",
    "        \n",
    "        # Second LSTM layer with return sequences\n",
    "        LSTM(64, return_sequences=True),\n",
    "        Dropout(0.2),\n",
    "        \n",
    "        # Third LSTM layer\n",
    "        LSTM(32, return_sequences=False),\n",
    "        Dropout(0.2),\n",
    "        \n",
    "        # Dense layers\n",
    "        Dense(16, activation='relu'),\n",
    "        Dropout(0.1),\n",
    "        \n",
    "        # Output layer\n",
    "        Dense(1)\n",
    "    ])\n",
    "    \n",
    "    # Compile model\n",
    "    model.compile(\n",
    "        optimizer=keras.optimizers.Adam(learning_rate=0.001),\n",
    "        loss='mse',\n",
    "        metrics=['mae', 'mse']\n",
    "    )\n",
    "    \n",
    "    return model"
   ]
  },
  {
   "cell_type": "code",
   "execution_count": 22,
   "id": "c72e83f8",
   "metadata": {},
   "outputs": [
    {
     "name": "stdout",
     "output_type": "stream",
     "text": [
      "Model architecture:\n"
     ]
    },
    {
     "data": {
      "text/html": [
       "<pre style=\"white-space:pre;overflow-x:auto;line-height:normal;font-family:Menlo,'DejaVu Sans Mono',consolas,'Courier New',monospace\"><span style=\"font-weight: bold\">Model: \"sequential\"</span>\n",
       "</pre>\n"
      ],
      "text/plain": [
       "\u001b[1mModel: \"sequential\"\u001b[0m\n"
      ]
     },
     "metadata": {},
     "output_type": "display_data"
    },
    {
     "data": {
      "text/html": [
       "<pre style=\"white-space:pre;overflow-x:auto;line-height:normal;font-family:Menlo,'DejaVu Sans Mono',consolas,'Courier New',monospace\">┏━━━━━━━━━━━━━━━━━━━━━━━━━━━━━━━━━┳━━━━━━━━━━━━━━━━━━━━━━━━┳━━━━━━━━━━━━━━━┓\n",
       "┃<span style=\"font-weight: bold\"> Layer (type)                    </span>┃<span style=\"font-weight: bold\"> Output Shape           </span>┃<span style=\"font-weight: bold\">       Param # </span>┃\n",
       "┡━━━━━━━━━━━━━━━━━━━━━━━━━━━━━━━━━╇━━━━━━━━━━━━━━━━━━━━━━━━╇━━━━━━━━━━━━━━━┩\n",
       "│ lstm (<span style=\"color: #0087ff; text-decoration-color: #0087ff\">LSTM</span>)                     │ (<span style=\"color: #00d7ff; text-decoration-color: #00d7ff\">None</span>, <span style=\"color: #00af00; text-decoration-color: #00af00\">7</span>, <span style=\"color: #00af00; text-decoration-color: #00af00\">128</span>)         │        <span style=\"color: #00af00; text-decoration-color: #00af00\">95,744</span> │\n",
       "├─────────────────────────────────┼────────────────────────┼───────────────┤\n",
       "│ dropout (<span style=\"color: #0087ff; text-decoration-color: #0087ff\">Dropout</span>)               │ (<span style=\"color: #00d7ff; text-decoration-color: #00d7ff\">None</span>, <span style=\"color: #00af00; text-decoration-color: #00af00\">7</span>, <span style=\"color: #00af00; text-decoration-color: #00af00\">128</span>)         │             <span style=\"color: #00af00; text-decoration-color: #00af00\">0</span> │\n",
       "├─────────────────────────────────┼────────────────────────┼───────────────┤\n",
       "│ lstm_1 (<span style=\"color: #0087ff; text-decoration-color: #0087ff\">LSTM</span>)                   │ (<span style=\"color: #00d7ff; text-decoration-color: #00d7ff\">None</span>, <span style=\"color: #00af00; text-decoration-color: #00af00\">7</span>, <span style=\"color: #00af00; text-decoration-color: #00af00\">64</span>)          │        <span style=\"color: #00af00; text-decoration-color: #00af00\">49,408</span> │\n",
       "├─────────────────────────────────┼────────────────────────┼───────────────┤\n",
       "│ dropout_1 (<span style=\"color: #0087ff; text-decoration-color: #0087ff\">Dropout</span>)             │ (<span style=\"color: #00d7ff; text-decoration-color: #00d7ff\">None</span>, <span style=\"color: #00af00; text-decoration-color: #00af00\">7</span>, <span style=\"color: #00af00; text-decoration-color: #00af00\">64</span>)          │             <span style=\"color: #00af00; text-decoration-color: #00af00\">0</span> │\n",
       "├─────────────────────────────────┼────────────────────────┼───────────────┤\n",
       "│ lstm_2 (<span style=\"color: #0087ff; text-decoration-color: #0087ff\">LSTM</span>)                   │ (<span style=\"color: #00d7ff; text-decoration-color: #00d7ff\">None</span>, <span style=\"color: #00af00; text-decoration-color: #00af00\">32</span>)             │        <span style=\"color: #00af00; text-decoration-color: #00af00\">12,416</span> │\n",
       "├─────────────────────────────────┼────────────────────────┼───────────────┤\n",
       "│ dropout_2 (<span style=\"color: #0087ff; text-decoration-color: #0087ff\">Dropout</span>)             │ (<span style=\"color: #00d7ff; text-decoration-color: #00d7ff\">None</span>, <span style=\"color: #00af00; text-decoration-color: #00af00\">32</span>)             │             <span style=\"color: #00af00; text-decoration-color: #00af00\">0</span> │\n",
       "├─────────────────────────────────┼────────────────────────┼───────────────┤\n",
       "│ dense (<span style=\"color: #0087ff; text-decoration-color: #0087ff\">Dense</span>)                   │ (<span style=\"color: #00d7ff; text-decoration-color: #00d7ff\">None</span>, <span style=\"color: #00af00; text-decoration-color: #00af00\">16</span>)             │           <span style=\"color: #00af00; text-decoration-color: #00af00\">528</span> │\n",
       "├─────────────────────────────────┼────────────────────────┼───────────────┤\n",
       "│ dropout_3 (<span style=\"color: #0087ff; text-decoration-color: #0087ff\">Dropout</span>)             │ (<span style=\"color: #00d7ff; text-decoration-color: #00d7ff\">None</span>, <span style=\"color: #00af00; text-decoration-color: #00af00\">16</span>)             │             <span style=\"color: #00af00; text-decoration-color: #00af00\">0</span> │\n",
       "├─────────────────────────────────┼────────────────────────┼───────────────┤\n",
       "│ dense_1 (<span style=\"color: #0087ff; text-decoration-color: #0087ff\">Dense</span>)                 │ (<span style=\"color: #00d7ff; text-decoration-color: #00d7ff\">None</span>, <span style=\"color: #00af00; text-decoration-color: #00af00\">1</span>)              │            <span style=\"color: #00af00; text-decoration-color: #00af00\">17</span> │\n",
       "└─────────────────────────────────┴────────────────────────┴───────────────┘\n",
       "</pre>\n"
      ],
      "text/plain": [
       "┏━━━━━━━━━━━━━━━━━━━━━━━━━━━━━━━━━┳━━━━━━━━━━━━━━━━━━━━━━━━┳━━━━━━━━━━━━━━━┓\n",
       "┃\u001b[1m \u001b[0m\u001b[1mLayer (type)                   \u001b[0m\u001b[1m \u001b[0m┃\u001b[1m \u001b[0m\u001b[1mOutput Shape          \u001b[0m\u001b[1m \u001b[0m┃\u001b[1m \u001b[0m\u001b[1m      Param #\u001b[0m\u001b[1m \u001b[0m┃\n",
       "┡━━━━━━━━━━━━━━━━━━━━━━━━━━━━━━━━━╇━━━━━━━━━━━━━━━━━━━━━━━━╇━━━━━━━━━━━━━━━┩\n",
       "│ lstm (\u001b[38;5;33mLSTM\u001b[0m)                     │ (\u001b[38;5;45mNone\u001b[0m, \u001b[38;5;34m7\u001b[0m, \u001b[38;5;34m128\u001b[0m)         │        \u001b[38;5;34m95,744\u001b[0m │\n",
       "├─────────────────────────────────┼────────────────────────┼───────────────┤\n",
       "│ dropout (\u001b[38;5;33mDropout\u001b[0m)               │ (\u001b[38;5;45mNone\u001b[0m, \u001b[38;5;34m7\u001b[0m, \u001b[38;5;34m128\u001b[0m)         │             \u001b[38;5;34m0\u001b[0m │\n",
       "├─────────────────────────────────┼────────────────────────┼───────────────┤\n",
       "│ lstm_1 (\u001b[38;5;33mLSTM\u001b[0m)                   │ (\u001b[38;5;45mNone\u001b[0m, \u001b[38;5;34m7\u001b[0m, \u001b[38;5;34m64\u001b[0m)          │        \u001b[38;5;34m49,408\u001b[0m │\n",
       "├─────────────────────────────────┼────────────────────────┼───────────────┤\n",
       "│ dropout_1 (\u001b[38;5;33mDropout\u001b[0m)             │ (\u001b[38;5;45mNone\u001b[0m, \u001b[38;5;34m7\u001b[0m, \u001b[38;5;34m64\u001b[0m)          │             \u001b[38;5;34m0\u001b[0m │\n",
       "├─────────────────────────────────┼────────────────────────┼───────────────┤\n",
       "│ lstm_2 (\u001b[38;5;33mLSTM\u001b[0m)                   │ (\u001b[38;5;45mNone\u001b[0m, \u001b[38;5;34m32\u001b[0m)             │        \u001b[38;5;34m12,416\u001b[0m │\n",
       "├─────────────────────────────────┼────────────────────────┼───────────────┤\n",
       "│ dropout_2 (\u001b[38;5;33mDropout\u001b[0m)             │ (\u001b[38;5;45mNone\u001b[0m, \u001b[38;5;34m32\u001b[0m)             │             \u001b[38;5;34m0\u001b[0m │\n",
       "├─────────────────────────────────┼────────────────────────┼───────────────┤\n",
       "│ dense (\u001b[38;5;33mDense\u001b[0m)                   │ (\u001b[38;5;45mNone\u001b[0m, \u001b[38;5;34m16\u001b[0m)             │           \u001b[38;5;34m528\u001b[0m │\n",
       "├─────────────────────────────────┼────────────────────────┼───────────────┤\n",
       "│ dropout_3 (\u001b[38;5;33mDropout\u001b[0m)             │ (\u001b[38;5;45mNone\u001b[0m, \u001b[38;5;34m16\u001b[0m)             │             \u001b[38;5;34m0\u001b[0m │\n",
       "├─────────────────────────────────┼────────────────────────┼───────────────┤\n",
       "│ dense_1 (\u001b[38;5;33mDense\u001b[0m)                 │ (\u001b[38;5;45mNone\u001b[0m, \u001b[38;5;34m1\u001b[0m)              │            \u001b[38;5;34m17\u001b[0m │\n",
       "└─────────────────────────────────┴────────────────────────┴───────────────┘\n"
      ]
     },
     "metadata": {},
     "output_type": "display_data"
    },
    {
     "data": {
      "text/html": [
       "<pre style=\"white-space:pre;overflow-x:auto;line-height:normal;font-family:Menlo,'DejaVu Sans Mono',consolas,'Courier New',monospace\"><span style=\"font-weight: bold\"> Total params: </span><span style=\"color: #00af00; text-decoration-color: #00af00\">158,113</span> (617.63 KB)\n",
       "</pre>\n"
      ],
      "text/plain": [
       "\u001b[1m Total params: \u001b[0m\u001b[38;5;34m158,113\u001b[0m (617.63 KB)\n"
      ]
     },
     "metadata": {},
     "output_type": "display_data"
    },
    {
     "data": {
      "text/html": [
       "<pre style=\"white-space:pre;overflow-x:auto;line-height:normal;font-family:Menlo,'DejaVu Sans Mono',consolas,'Courier New',monospace\"><span style=\"font-weight: bold\"> Trainable params: </span><span style=\"color: #00af00; text-decoration-color: #00af00\">158,113</span> (617.63 KB)\n",
       "</pre>\n"
      ],
      "text/plain": [
       "\u001b[1m Trainable params: \u001b[0m\u001b[38;5;34m158,113\u001b[0m (617.63 KB)\n"
      ]
     },
     "metadata": {},
     "output_type": "display_data"
    },
    {
     "data": {
      "text/html": [
       "<pre style=\"white-space:pre;overflow-x:auto;line-height:normal;font-family:Menlo,'DejaVu Sans Mono',consolas,'Courier New',monospace\"><span style=\"font-weight: bold\"> Non-trainable params: </span><span style=\"color: #00af00; text-decoration-color: #00af00\">0</span> (0.00 B)\n",
       "</pre>\n"
      ],
      "text/plain": [
       "\u001b[1m Non-trainable params: \u001b[0m\u001b[38;5;34m0\u001b[0m (0.00 B)\n"
      ]
     },
     "metadata": {},
     "output_type": "display_data"
    }
   ],
   "source": [
    "# Build model\n",
    "input_shape = (X_train.shape[1], X_train.shape[2])\n",
    "model = build_lstm_model(input_shape)\n",
    "\n",
    "print(\"Model architecture:\")\n",
    "model.summary()"
   ]
  },
  {
   "cell_type": "code",
   "execution_count": 23,
   "id": "42516825",
   "metadata": {},
   "outputs": [
    {
     "name": "stdout",
     "output_type": "stream",
     "text": [
      "Callbacks configured!\n"
     ]
    }
   ],
   "source": [
    "callbacks = [\n",
    "    # Early stopping\n",
    "    EarlyStopping(\n",
    "        monitor='val_loss',\n",
    "        patience=15,\n",
    "        restore_best_weights=True,\n",
    "        verbose=1\n",
    "    ),\n",
    "    \n",
    "    # Model checkpoint\n",
    "    ModelCheckpoint(\n",
    "        'best_weather_lstm_model.h5',\n",
    "        monitor='val_loss',\n",
    "        save_best_only=True,\n",
    "        verbose=1\n",
    "    ),\n",
    "    \n",
    "    # Reduce learning rate on plateau\n",
    "    ReduceLROnPlateau(\n",
    "        monitor='val_loss',\n",
    "        factor=0.5,\n",
    "        patience=5,\n",
    "        min_lr=1e-7,\n",
    "        verbose=1\n",
    "    )\n",
    "]\n",
    "\n",
    "print(\"Callbacks configured!\")"
   ]
  },
  {
   "cell_type": "code",
   "execution_count": 24,
   "id": "3ec06ae2",
   "metadata": {},
   "outputs": [
    {
     "name": "stdout",
     "output_type": "stream",
     "text": [
      "Starting training...\n",
      "Epoch 1/100\n",
      "\u001b[1m1055/1062\u001b[0m \u001b[32m━━━━━━━━━━━━━━━━━━━\u001b[0m\u001b[37m━\u001b[0m \u001b[1m0s\u001b[0m 8ms/step - loss: 0.1929 - mae: 0.3100 - mse: 0.1929\n",
      "Epoch 1: val_loss improved from inf to 0.07723, saving model to best_weather_lstm_model.h5\n"
     ]
    },
    {
     "name": "stderr",
     "output_type": "stream",
     "text": [
      "WARNING:absl:You are saving your model as an HDF5 file via `model.save()` or `keras.saving.save_model(model)`. This file format is considered legacy. We recommend using instead the native Keras format, e.g. `model.save('my_model.keras')` or `keras.saving.save_model(model, 'my_model.keras')`. \n"
     ]
    },
    {
     "name": "stdout",
     "output_type": "stream",
     "text": [
      "\u001b[1m1062/1062\u001b[0m \u001b[32m━━━━━━━━━━━━━━━━━━━━\u001b[0m\u001b[37m\u001b[0m \u001b[1m10s\u001b[0m 8ms/step - loss: 0.1925 - mae: 0.3097 - mse: 0.1925 - val_loss: 0.0772 - val_mae: 0.2053 - val_mse: 0.0772 - learning_rate: 0.0010\n",
      "Epoch 2/100\n",
      "\u001b[1m1055/1062\u001b[0m \u001b[32m━━━━━━━━━━━━━━━━━━━\u001b[0m\u001b[37m━\u001b[0m \u001b[1m0s\u001b[0m 7ms/step - loss: 0.0988 - mae: 0.2298 - mse: 0.0988\n",
      "Epoch 2: val_loss improved from 0.07723 to 0.07637, saving model to best_weather_lstm_model.h5\n"
     ]
    },
    {
     "name": "stderr",
     "output_type": "stream",
     "text": [
      "WARNING:absl:You are saving your model as an HDF5 file via `model.save()` or `keras.saving.save_model(model)`. This file format is considered legacy. We recommend using instead the native Keras format, e.g. `model.save('my_model.keras')` or `keras.saving.save_model(model, 'my_model.keras')`. \n"
     ]
    },
    {
     "name": "stdout",
     "output_type": "stream",
     "text": [
      "\u001b[1m1062/1062\u001b[0m \u001b[32m━━━━━━━━━━━━━━━━━━━━\u001b[0m\u001b[37m\u001b[0m \u001b[1m8s\u001b[0m 8ms/step - loss: 0.0988 - mae: 0.2298 - mse: 0.0988 - val_loss: 0.0764 - val_mae: 0.2023 - val_mse: 0.0764 - learning_rate: 0.0010\n",
      "Epoch 3/100\n",
      "\u001b[1m1055/1062\u001b[0m \u001b[32m━━━━━━━━━━━━━━━━━━━\u001b[0m\u001b[37m━\u001b[0m \u001b[1m0s\u001b[0m 8ms/step - loss: 0.0918 - mae: 0.2215 - mse: 0.0918\n",
      "Epoch 3: val_loss improved from 0.07637 to 0.07012, saving model to best_weather_lstm_model.h5\n"
     ]
    },
    {
     "name": "stderr",
     "output_type": "stream",
     "text": [
      "WARNING:absl:You are saving your model as an HDF5 file via `model.save()` or `keras.saving.save_model(model)`. This file format is considered legacy. We recommend using instead the native Keras format, e.g. `model.save('my_model.keras')` or `keras.saving.save_model(model, 'my_model.keras')`. \n"
     ]
    },
    {
     "name": "stdout",
     "output_type": "stream",
     "text": [
      "\u001b[1m1062/1062\u001b[0m \u001b[32m━━━━━━━━━━━━━━━━━━━━\u001b[0m\u001b[37m\u001b[0m \u001b[1m9s\u001b[0m 8ms/step - loss: 0.0918 - mae: 0.2215 - mse: 0.0918 - val_loss: 0.0701 - val_mae: 0.1925 - val_mse: 0.0701 - learning_rate: 0.0010\n",
      "Epoch 4/100\n",
      "\u001b[1m1056/1062\u001b[0m \u001b[32m━━━━━━━━━━━━━━━━━━━\u001b[0m\u001b[37m━\u001b[0m \u001b[1m0s\u001b[0m 8ms/step - loss: 0.0880 - mae: 0.2160 - mse: 0.0880\n",
      "Epoch 4: val_loss improved from 0.07012 to 0.06813, saving model to best_weather_lstm_model.h5\n"
     ]
    },
    {
     "name": "stderr",
     "output_type": "stream",
     "text": [
      "WARNING:absl:You are saving your model as an HDF5 file via `model.save()` or `keras.saving.save_model(model)`. This file format is considered legacy. We recommend using instead the native Keras format, e.g. `model.save('my_model.keras')` or `keras.saving.save_model(model, 'my_model.keras')`. \n"
     ]
    },
    {
     "name": "stdout",
     "output_type": "stream",
     "text": [
      "\u001b[1m1062/1062\u001b[0m \u001b[32m━━━━━━━━━━━━━━━━━━━━\u001b[0m\u001b[37m\u001b[0m \u001b[1m9s\u001b[0m 8ms/step - loss: 0.0879 - mae: 0.2160 - mse: 0.0879 - val_loss: 0.0681 - val_mae: 0.1912 - val_mse: 0.0681 - learning_rate: 0.0010\n",
      "Epoch 5/100\n",
      "\u001b[1m1055/1062\u001b[0m \u001b[32m━━━━━━━━━━━━━━━━━━━\u001b[0m\u001b[37m━\u001b[0m \u001b[1m0s\u001b[0m 7ms/step - loss: 0.0853 - mae: 0.2132 - mse: 0.0853\n",
      "Epoch 5: val_loss improved from 0.06813 to 0.06596, saving model to best_weather_lstm_model.h5\n"
     ]
    },
    {
     "name": "stderr",
     "output_type": "stream",
     "text": [
      "WARNING:absl:You are saving your model as an HDF5 file via `model.save()` or `keras.saving.save_model(model)`. This file format is considered legacy. We recommend using instead the native Keras format, e.g. `model.save('my_model.keras')` or `keras.saving.save_model(model, 'my_model.keras')`. \n"
     ]
    },
    {
     "name": "stdout",
     "output_type": "stream",
     "text": [
      "\u001b[1m1062/1062\u001b[0m \u001b[32m━━━━━━━━━━━━━━━━━━━━\u001b[0m\u001b[37m\u001b[0m \u001b[1m8s\u001b[0m 8ms/step - loss: 0.0853 - mae: 0.2132 - mse: 0.0853 - val_loss: 0.0660 - val_mae: 0.1871 - val_mse: 0.0660 - learning_rate: 0.0010\n",
      "Epoch 6/100\n",
      "\u001b[1m1059/1062\u001b[0m \u001b[32m━━━━━━━━━━━━━━━━━━━\u001b[0m\u001b[37m━\u001b[0m \u001b[1m0s\u001b[0m 7ms/step - loss: 0.0846 - mae: 0.2123 - mse: 0.0846\n",
      "Epoch 6: val_loss did not improve from 0.06596\n",
      "\u001b[1m1062/1062\u001b[0m \u001b[32m━━━━━━━━━━━━━━━━━━━━\u001b[0m\u001b[37m\u001b[0m \u001b[1m8s\u001b[0m 8ms/step - loss: 0.0846 - mae: 0.2123 - mse: 0.0846 - val_loss: 0.0678 - val_mae: 0.1874 - val_mse: 0.0678 - learning_rate: 0.0010\n",
      "Epoch 7/100\n",
      "\u001b[1m1061/1062\u001b[0m \u001b[32m━━━━━━━━━━━━━━━━━━━\u001b[0m\u001b[37m━\u001b[0m \u001b[1m0s\u001b[0m 7ms/step - loss: 0.0823 - mae: 0.2089 - mse: 0.0823\n",
      "Epoch 7: val_loss improved from 0.06596 to 0.06583, saving model to best_weather_lstm_model.h5\n"
     ]
    },
    {
     "name": "stderr",
     "output_type": "stream",
     "text": [
      "WARNING:absl:You are saving your model as an HDF5 file via `model.save()` or `keras.saving.save_model(model)`. This file format is considered legacy. We recommend using instead the native Keras format, e.g. `model.save('my_model.keras')` or `keras.saving.save_model(model, 'my_model.keras')`. \n"
     ]
    },
    {
     "name": "stdout",
     "output_type": "stream",
     "text": [
      "\u001b[1m1062/1062\u001b[0m \u001b[32m━━━━━━━━━━━━━━━━━━━━\u001b[0m\u001b[37m\u001b[0m \u001b[1m8s\u001b[0m 8ms/step - loss: 0.0823 - mae: 0.2089 - mse: 0.0823 - val_loss: 0.0658 - val_mae: 0.1853 - val_mse: 0.0658 - learning_rate: 0.0010\n",
      "Epoch 8/100\n",
      "\u001b[1m1059/1062\u001b[0m \u001b[32m━━━━━━━━━━━━━━━━━━━\u001b[0m\u001b[37m━\u001b[0m \u001b[1m0s\u001b[0m 8ms/step - loss: 0.0802 - mae: 0.2072 - mse: 0.0802\n",
      "Epoch 8: val_loss improved from 0.06583 to 0.06498, saving model to best_weather_lstm_model.h5\n"
     ]
    },
    {
     "name": "stderr",
     "output_type": "stream",
     "text": [
      "WARNING:absl:You are saving your model as an HDF5 file via `model.save()` or `keras.saving.save_model(model)`. This file format is considered legacy. We recommend using instead the native Keras format, e.g. `model.save('my_model.keras')` or `keras.saving.save_model(model, 'my_model.keras')`. \n"
     ]
    },
    {
     "name": "stdout",
     "output_type": "stream",
     "text": [
      "\u001b[1m1062/1062\u001b[0m \u001b[32m━━━━━━━━━━━━━━━━━━━━\u001b[0m\u001b[37m\u001b[0m \u001b[1m9s\u001b[0m 8ms/step - loss: 0.0802 - mae: 0.2072 - mse: 0.0802 - val_loss: 0.0650 - val_mae: 0.1836 - val_mse: 0.0650 - learning_rate: 0.0010\n",
      "Epoch 9/100\n",
      "\u001b[1m1060/1062\u001b[0m \u001b[32m━━━━━━━━━━━━━━━━━━━\u001b[0m\u001b[37m━\u001b[0m \u001b[1m0s\u001b[0m 8ms/step - loss: 0.0787 - mae: 0.2049 - mse: 0.0787\n",
      "Epoch 9: val_loss improved from 0.06498 to 0.06405, saving model to best_weather_lstm_model.h5\n"
     ]
    },
    {
     "name": "stderr",
     "output_type": "stream",
     "text": [
      "WARNING:absl:You are saving your model as an HDF5 file via `model.save()` or `keras.saving.save_model(model)`. This file format is considered legacy. We recommend using instead the native Keras format, e.g. `model.save('my_model.keras')` or `keras.saving.save_model(model, 'my_model.keras')`. \n"
     ]
    },
    {
     "name": "stdout",
     "output_type": "stream",
     "text": [
      "\u001b[1m1062/1062\u001b[0m \u001b[32m━━━━━━━━━━━━━━━━━━━━\u001b[0m\u001b[37m\u001b[0m \u001b[1m9s\u001b[0m 8ms/step - loss: 0.0787 - mae: 0.2049 - mse: 0.0787 - val_loss: 0.0640 - val_mae: 0.1843 - val_mse: 0.0640 - learning_rate: 0.0010\n",
      "Epoch 10/100\n",
      "\u001b[1m1055/1062\u001b[0m \u001b[32m━━━━━━━━━━━━━━━━━━━\u001b[0m\u001b[37m━\u001b[0m \u001b[1m0s\u001b[0m 7ms/step - loss: 0.0781 - mae: 0.2048 - mse: 0.0781\n",
      "Epoch 10: val_loss did not improve from 0.06405\n",
      "\u001b[1m1062/1062\u001b[0m \u001b[32m━━━━━━━━━━━━━━━━━━━━\u001b[0m\u001b[37m\u001b[0m \u001b[1m8s\u001b[0m 8ms/step - loss: 0.0781 - mae: 0.2048 - mse: 0.0781 - val_loss: 0.0703 - val_mae: 0.1948 - val_mse: 0.0703 - learning_rate: 0.0010\n",
      "Epoch 11/100\n",
      "\u001b[1m1060/1062\u001b[0m \u001b[32m━━━━━━━━━━━━━━━━━━━\u001b[0m\u001b[37m━\u001b[0m \u001b[1m0s\u001b[0m 7ms/step - loss: 0.0755 - mae: 0.2016 - mse: 0.0755\n",
      "Epoch 11: val_loss did not improve from 0.06405\n",
      "\u001b[1m1062/1062\u001b[0m \u001b[32m━━━━━━━━━━━━━━━━━━━━\u001b[0m\u001b[37m\u001b[0m \u001b[1m8s\u001b[0m 8ms/step - loss: 0.0755 - mae: 0.2016 - mse: 0.0755 - val_loss: 0.0643 - val_mae: 0.1843 - val_mse: 0.0643 - learning_rate: 0.0010\n",
      "Epoch 12/100\n",
      "\u001b[1m1055/1062\u001b[0m \u001b[32m━━━━━━━━━━━━━━━━━━━\u001b[0m\u001b[37m━\u001b[0m \u001b[1m0s\u001b[0m 7ms/step - loss: 0.0741 - mae: 0.1996 - mse: 0.0741\n",
      "Epoch 12: val_loss did not improve from 0.06405\n",
      "\u001b[1m1062/1062\u001b[0m \u001b[32m━━━━━━━━━━━━━━━━━━━━\u001b[0m\u001b[37m\u001b[0m \u001b[1m8s\u001b[0m 8ms/step - loss: 0.0741 - mae: 0.1996 - mse: 0.0741 - val_loss: 0.0643 - val_mae: 0.1812 - val_mse: 0.0643 - learning_rate: 0.0010\n",
      "Epoch 13/100\n",
      "\u001b[1m1056/1062\u001b[0m \u001b[32m━━━━━━━━━━━━━━━━━━━\u001b[0m\u001b[37m━\u001b[0m \u001b[1m0s\u001b[0m 7ms/step - loss: 0.0732 - mae: 0.1992 - mse: 0.0732\n",
      "Epoch 13: val_loss did not improve from 0.06405\n",
      "\u001b[1m1062/1062\u001b[0m \u001b[32m━━━━━━━━━━━━━━━━━━━━\u001b[0m\u001b[37m\u001b[0m \u001b[1m8s\u001b[0m 8ms/step - loss: 0.0732 - mae: 0.1992 - mse: 0.0732 - val_loss: 0.0646 - val_mae: 0.1845 - val_mse: 0.0646 - learning_rate: 0.0010\n",
      "Epoch 14/100\n",
      "\u001b[1m1056/1062\u001b[0m \u001b[32m━━━━━━━━━━━━━━━━━━━\u001b[0m\u001b[37m━\u001b[0m \u001b[1m0s\u001b[0m 8ms/step - loss: 0.0710 - mae: 0.1954 - mse: 0.0710\n",
      "Epoch 14: val_loss did not improve from 0.06405\n",
      "\n",
      "Epoch 14: ReduceLROnPlateau reducing learning rate to 0.0005000000237487257.\n",
      "\u001b[1m1062/1062\u001b[0m \u001b[32m━━━━━━━━━━━━━━━━━━━━\u001b[0m\u001b[37m\u001b[0m \u001b[1m8s\u001b[0m 8ms/step - loss: 0.0710 - mae: 0.1954 - mse: 0.0710 - val_loss: 0.0648 - val_mae: 0.1856 - val_mse: 0.0648 - learning_rate: 0.0010\n",
      "Epoch 15/100\n",
      "\u001b[1m1056/1062\u001b[0m \u001b[32m━━━━━━━━━━━━━━━━━━━\u001b[0m\u001b[37m━\u001b[0m \u001b[1m0s\u001b[0m 8ms/step - loss: 0.0680 - mae: 0.1915 - mse: 0.0680\n",
      "Epoch 15: val_loss improved from 0.06405 to 0.06247, saving model to best_weather_lstm_model.h5\n"
     ]
    },
    {
     "name": "stderr",
     "output_type": "stream",
     "text": [
      "WARNING:absl:You are saving your model as an HDF5 file via `model.save()` or `keras.saving.save_model(model)`. This file format is considered legacy. We recommend using instead the native Keras format, e.g. `model.save('my_model.keras')` or `keras.saving.save_model(model, 'my_model.keras')`. \n"
     ]
    },
    {
     "name": "stdout",
     "output_type": "stream",
     "text": [
      "\u001b[1m1062/1062\u001b[0m \u001b[32m━━━━━━━━━━━━━━━━━━━━\u001b[0m\u001b[37m\u001b[0m \u001b[1m9s\u001b[0m 8ms/step - loss: 0.0680 - mae: 0.1915 - mse: 0.0680 - val_loss: 0.0625 - val_mae: 0.1795 - val_mse: 0.0625 - learning_rate: 5.0000e-04\n",
      "Epoch 16/100\n",
      "\u001b[1m1059/1062\u001b[0m \u001b[32m━━━━━━━━━━━━━━━━━━━\u001b[0m\u001b[37m━\u001b[0m \u001b[1m0s\u001b[0m 7ms/step - loss: 0.0639 - mae: 0.1866 - mse: 0.0639\n",
      "Epoch 16: val_loss did not improve from 0.06247\n",
      "\u001b[1m1062/1062\u001b[0m \u001b[32m━━━━━━━━━━━━━━━━━━━━\u001b[0m\u001b[37m\u001b[0m \u001b[1m8s\u001b[0m 8ms/step - loss: 0.0639 - mae: 0.1866 - mse: 0.0639 - val_loss: 0.0629 - val_mae: 0.1796 - val_mse: 0.0629 - learning_rate: 5.0000e-04\n",
      "Epoch 17/100\n",
      "\u001b[1m1055/1062\u001b[0m \u001b[32m━━━━━━━━━━━━━━━━━━━\u001b[0m\u001b[37m━\u001b[0m \u001b[1m0s\u001b[0m 7ms/step - loss: 0.0626 - mae: 0.1859 - mse: 0.0626\n",
      "Epoch 17: val_loss improved from 0.06247 to 0.06220, saving model to best_weather_lstm_model.h5\n"
     ]
    },
    {
     "name": "stderr",
     "output_type": "stream",
     "text": [
      "WARNING:absl:You are saving your model as an HDF5 file via `model.save()` or `keras.saving.save_model(model)`. This file format is considered legacy. We recommend using instead the native Keras format, e.g. `model.save('my_model.keras')` or `keras.saving.save_model(model, 'my_model.keras')`. \n"
     ]
    },
    {
     "name": "stdout",
     "output_type": "stream",
     "text": [
      "\u001b[1m1062/1062\u001b[0m \u001b[32m━━━━━━━━━━━━━━━━━━━━\u001b[0m\u001b[37m\u001b[0m \u001b[1m8s\u001b[0m 8ms/step - loss: 0.0626 - mae: 0.1859 - mse: 0.0626 - val_loss: 0.0622 - val_mae: 0.1794 - val_mse: 0.0622 - learning_rate: 5.0000e-04\n",
      "Epoch 18/100\n",
      "\u001b[1m1062/1062\u001b[0m \u001b[32m━━━━━━━━━━━━━━━━━━━━\u001b[0m\u001b[37m\u001b[0m \u001b[1m0s\u001b[0m 7ms/step - loss: 0.0607 - mae: 0.1824 - mse: 0.0607\n",
      "Epoch 18: val_loss did not improve from 0.06220\n",
      "\u001b[1m1062/1062\u001b[0m \u001b[32m━━━━━━━━━━━━━━━━━━━━\u001b[0m\u001b[37m\u001b[0m \u001b[1m8s\u001b[0m 8ms/step - loss: 0.0607 - mae: 0.1824 - mse: 0.0607 - val_loss: 0.0645 - val_mae: 0.1838 - val_mse: 0.0645 - learning_rate: 5.0000e-04\n",
      "Epoch 19/100\n",
      "\u001b[1m1061/1062\u001b[0m \u001b[32m━━━━━━━━━━━━━━━━━━━\u001b[0m\u001b[37m━\u001b[0m \u001b[1m0s\u001b[0m 8ms/step - loss: 0.0612 - mae: 0.1832 - mse: 0.0612\n",
      "Epoch 19: val_loss did not improve from 0.06220\n",
      "\u001b[1m1062/1062\u001b[0m \u001b[32m━━━━━━━━━━━━━━━━━━━━\u001b[0m\u001b[37m\u001b[0m \u001b[1m9s\u001b[0m 8ms/step - loss: 0.0612 - mae: 0.1832 - mse: 0.0612 - val_loss: 0.0653 - val_mae: 0.1832 - val_mse: 0.0653 - learning_rate: 5.0000e-04\n",
      "Epoch 20/100\n",
      "\u001b[1m1059/1062\u001b[0m \u001b[32m━━━━━━━━━━━━━━━━━━━\u001b[0m\u001b[37m━\u001b[0m \u001b[1m0s\u001b[0m 8ms/step - loss: 0.0597 - mae: 0.1814 - mse: 0.0597\n",
      "Epoch 20: val_loss did not improve from 0.06220\n",
      "\u001b[1m1062/1062\u001b[0m \u001b[32m━━━━━━━━━━━━━━━━━━━━\u001b[0m\u001b[37m\u001b[0m \u001b[1m9s\u001b[0m 8ms/step - loss: 0.0597 - mae: 0.1814 - mse: 0.0597 - val_loss: 0.0651 - val_mae: 0.1826 - val_mse: 0.0651 - learning_rate: 5.0000e-04\n",
      "Epoch 21/100\n",
      "\u001b[1m1059/1062\u001b[0m \u001b[32m━━━━━━━━━━━━━━━━━━━\u001b[0m\u001b[37m━\u001b[0m \u001b[1m0s\u001b[0m 7ms/step - loss: 0.0597 - mae: 0.1806 - mse: 0.0597\n",
      "Epoch 21: val_loss did not improve from 0.06220\n",
      "\u001b[1m1062/1062\u001b[0m \u001b[32m━━━━━━━━━━━━━━━━━━━━\u001b[0m\u001b[37m\u001b[0m \u001b[1m8s\u001b[0m 8ms/step - loss: 0.0597 - mae: 0.1806 - mse: 0.0597 - val_loss: 0.0655 - val_mae: 0.1831 - val_mse: 0.0655 - learning_rate: 5.0000e-04\n",
      "Epoch 22/100\n",
      "\u001b[1m1061/1062\u001b[0m \u001b[32m━━━━━━━━━━━━━━━━━━━\u001b[0m\u001b[37m━\u001b[0m \u001b[1m0s\u001b[0m 7ms/step - loss: 0.0590 - mae: 0.1790 - mse: 0.0590\n",
      "Epoch 22: val_loss did not improve from 0.06220\n",
      "\n",
      "Epoch 22: ReduceLROnPlateau reducing learning rate to 0.0002500000118743628.\n",
      "\u001b[1m1062/1062\u001b[0m \u001b[32m━━━━━━━━━━━━━━━━━━━━\u001b[0m\u001b[37m\u001b[0m \u001b[1m8s\u001b[0m 8ms/step - loss: 0.0590 - mae: 0.1790 - mse: 0.0590 - val_loss: 0.0643 - val_mae: 0.1812 - val_mse: 0.0643 - learning_rate: 5.0000e-04\n",
      "Epoch 23/100\n",
      "\u001b[1m1058/1062\u001b[0m \u001b[32m━━━━━━━━━━━━━━━━━━━\u001b[0m\u001b[37m━\u001b[0m \u001b[1m0s\u001b[0m 7ms/step - loss: 0.0565 - mae: 0.1764 - mse: 0.0565\n",
      "Epoch 23: val_loss did not improve from 0.06220\n",
      "\u001b[1m1062/1062\u001b[0m \u001b[32m━━━━━━━━━━━━━━━━━━━━\u001b[0m\u001b[37m\u001b[0m \u001b[1m8s\u001b[0m 8ms/step - loss: 0.0565 - mae: 0.1764 - mse: 0.0565 - val_loss: 0.0642 - val_mae: 0.1811 - val_mse: 0.0642 - learning_rate: 2.5000e-04\n",
      "Epoch 24/100\n",
      "\u001b[1m1058/1062\u001b[0m \u001b[32m━━━━━━━━━━━━━━━━━━━\u001b[0m\u001b[37m━\u001b[0m \u001b[1m0s\u001b[0m 7ms/step - loss: 0.0553 - mae: 0.1744 - mse: 0.0553\n",
      "Epoch 24: val_loss did not improve from 0.06220\n",
      "\u001b[1m1062/1062\u001b[0m \u001b[32m━━━━━━━━━━━━━━━━━━━━\u001b[0m\u001b[37m\u001b[0m \u001b[1m8s\u001b[0m 8ms/step - loss: 0.0553 - mae: 0.1744 - mse: 0.0553 - val_loss: 0.0650 - val_mae: 0.1812 - val_mse: 0.0650 - learning_rate: 2.5000e-04\n",
      "Epoch 25/100\n",
      "\u001b[1m1060/1062\u001b[0m \u001b[32m━━━━━━━━━━━━━━━━━━━\u001b[0m\u001b[37m━\u001b[0m \u001b[1m0s\u001b[0m 7ms/step - loss: 0.0550 - mae: 0.1748 - mse: 0.0550\n",
      "Epoch 25: val_loss did not improve from 0.06220\n",
      "\u001b[1m1062/1062\u001b[0m \u001b[32m━━━━━━━━━━━━━━━━━━━━\u001b[0m\u001b[37m\u001b[0m \u001b[1m8s\u001b[0m 8ms/step - loss: 0.0550 - mae: 0.1748 - mse: 0.0550 - val_loss: 0.0647 - val_mae: 0.1820 - val_mse: 0.0647 - learning_rate: 2.5000e-04\n",
      "Epoch 26/100\n",
      "\u001b[1m1058/1062\u001b[0m \u001b[32m━━━━━━━━━━━━━━━━━━━\u001b[0m\u001b[37m━\u001b[0m \u001b[1m0s\u001b[0m 7ms/step - loss: 0.0535 - mae: 0.1723 - mse: 0.0535\n",
      "Epoch 26: val_loss did not improve from 0.06220\n",
      "\u001b[1m1062/1062\u001b[0m \u001b[32m━━━━━━━━━━━━━━━━━━━━\u001b[0m\u001b[37m\u001b[0m \u001b[1m8s\u001b[0m 7ms/step - loss: 0.0535 - mae: 0.1723 - mse: 0.0535 - val_loss: 0.0655 - val_mae: 0.1827 - val_mse: 0.0655 - learning_rate: 2.5000e-04\n",
      "Epoch 27/100\n",
      "\u001b[1m1057/1062\u001b[0m \u001b[32m━━━━━━━━━━━━━━━━━━━\u001b[0m\u001b[37m━\u001b[0m \u001b[1m0s\u001b[0m 7ms/step - loss: 0.0535 - mae: 0.1721 - mse: 0.0535\n",
      "Epoch 27: val_loss did not improve from 0.06220\n",
      "\n",
      "Epoch 27: ReduceLROnPlateau reducing learning rate to 0.0001250000059371814.\n",
      "\u001b[1m1062/1062\u001b[0m \u001b[32m━━━━━━━━━━━━━━━━━━━━\u001b[0m\u001b[37m\u001b[0m \u001b[1m8s\u001b[0m 7ms/step - loss: 0.0535 - mae: 0.1721 - mse: 0.0535 - val_loss: 0.0661 - val_mae: 0.1824 - val_mse: 0.0661 - learning_rate: 2.5000e-04\n",
      "Epoch 28/100\n",
      "\u001b[1m1058/1062\u001b[0m \u001b[32m━━━━━━━━━━━━━━━━━━━\u001b[0m\u001b[37m━\u001b[0m \u001b[1m0s\u001b[0m 7ms/step - loss: 0.0526 - mae: 0.1705 - mse: 0.0526\n",
      "Epoch 28: val_loss did not improve from 0.06220\n",
      "\u001b[1m1062/1062\u001b[0m \u001b[32m━━━━━━━━━━━━━━━━━━━━\u001b[0m\u001b[37m\u001b[0m \u001b[1m8s\u001b[0m 8ms/step - loss: 0.0526 - mae: 0.1705 - mse: 0.0526 - val_loss: 0.0654 - val_mae: 0.1820 - val_mse: 0.0654 - learning_rate: 1.2500e-04\n",
      "Epoch 29/100\n",
      "\u001b[1m1058/1062\u001b[0m \u001b[32m━━━━━━━━━━━━━━━━━━━\u001b[0m\u001b[37m━\u001b[0m \u001b[1m0s\u001b[0m 7ms/step - loss: 0.0535 - mae: 0.1707 - mse: 0.0535\n",
      "Epoch 29: val_loss did not improve from 0.06220\n",
      "\u001b[1m1062/1062\u001b[0m \u001b[32m━━━━━━━━━━━━━━━━━━━━\u001b[0m\u001b[37m\u001b[0m \u001b[1m8s\u001b[0m 8ms/step - loss: 0.0535 - mae: 0.1707 - mse: 0.0535 - val_loss: 0.0659 - val_mae: 0.1817 - val_mse: 0.0659 - learning_rate: 1.2500e-04\n",
      "Epoch 30/100\n",
      "\u001b[1m1060/1062\u001b[0m \u001b[32m━━━━━━━━━━━━━━━━━━━\u001b[0m\u001b[37m━\u001b[0m \u001b[1m0s\u001b[0m 8ms/step - loss: 0.0519 - mae: 0.1693 - mse: 0.0519\n",
      "Epoch 30: val_loss did not improve from 0.06220\n",
      "\u001b[1m1062/1062\u001b[0m \u001b[32m━━━━━━━━━━━━━━━━━━━━\u001b[0m\u001b[37m\u001b[0m \u001b[1m8s\u001b[0m 8ms/step - loss: 0.0519 - mae: 0.1693 - mse: 0.0519 - val_loss: 0.0656 - val_mae: 0.1825 - val_mse: 0.0656 - learning_rate: 1.2500e-04\n",
      "Epoch 31/100\n",
      "\u001b[1m1058/1062\u001b[0m \u001b[32m━━━━━━━━━━━━━━━━━━━\u001b[0m\u001b[37m━\u001b[0m \u001b[1m0s\u001b[0m 7ms/step - loss: 0.0520 - mae: 0.1692 - mse: 0.0520\n",
      "Epoch 31: val_loss did not improve from 0.06220\n",
      "\u001b[1m1062/1062\u001b[0m \u001b[32m━━━━━━━━━━━━━━━━━━━━\u001b[0m\u001b[37m\u001b[0m \u001b[1m8s\u001b[0m 8ms/step - loss: 0.0520 - mae: 0.1692 - mse: 0.0520 - val_loss: 0.0659 - val_mae: 0.1821 - val_mse: 0.0659 - learning_rate: 1.2500e-04\n",
      "Epoch 32/100\n",
      "\u001b[1m1057/1062\u001b[0m \u001b[32m━━━━━━━━━━━━━━━━━━━\u001b[0m\u001b[37m━\u001b[0m \u001b[1m0s\u001b[0m 8ms/step - loss: 0.0516 - mae: 0.1691 - mse: 0.0516\n",
      "Epoch 32: val_loss did not improve from 0.06220\n",
      "\n",
      "Epoch 32: ReduceLROnPlateau reducing learning rate to 6.25000029685907e-05.\n",
      "\u001b[1m1062/1062\u001b[0m \u001b[32m━━━━━━━━━━━━━━━━━━━━\u001b[0m\u001b[37m\u001b[0m \u001b[1m9s\u001b[0m 8ms/step - loss: 0.0516 - mae: 0.1691 - mse: 0.0516 - val_loss: 0.0661 - val_mae: 0.1827 - val_mse: 0.0661 - learning_rate: 1.2500e-04\n",
      "Epoch 32: early stopping\n",
      "Restoring model weights from the end of the best epoch: 17.\n",
      "\n",
      "Training completed!\n"
     ]
    }
   ],
   "source": [
    "print(\"Starting training...\")\n",
    "history = model.fit(\n",
    "    X_train, y_train,\n",
    "    validation_data=(X_val, y_val),\n",
    "    epochs=100,\n",
    "    batch_size=64,\n",
    "    callbacks=callbacks,\n",
    "    verbose=1\n",
    ")\n",
    "\n",
    "print(\"\\nTraining completed!\")"
   ]
  },
  {
   "cell_type": "code",
   "execution_count": 25,
   "id": "4afaccbe",
   "metadata": {},
   "outputs": [
    {
     "name": "stdout",
     "output_type": "stream",
     "text": [
      "======================================================================\n",
      "MODEL EVALUATION\n",
      "======================================================================\n",
      "Test Loss (MSE): 0.0625\n",
      "Test MAE: 0.1790\n",
      "Test RMSE: 0.2499\n"
     ]
    }
   ],
   "source": [
    "test_loss, test_mae, test_mse = model.evaluate(X_test, y_test, verbose=0)\n",
    "\n",
    "print(\"=\"*70)\n",
    "print(\"MODEL EVALUATION\")\n",
    "print(\"=\"*70)\n",
    "print(f\"Test Loss (MSE): {test_loss:.4f}\")\n",
    "print(f\"Test MAE: {test_mae:.4f}\")\n",
    "print(f\"Test RMSE: {np.sqrt(test_mse):.4f}\")"
   ]
  },
  {
   "cell_type": "code",
   "execution_count": 26,
   "id": "655a919d",
   "metadata": {},
   "outputs": [
    {
     "name": "stdout",
     "output_type": "stream",
     "text": [
      "\u001b[1m455/455\u001b[0m \u001b[32m━━━━━━━━━━━━━━━━━━━━\u001b[0m\u001b[37m\u001b[0m \u001b[1m1s\u001b[0m 2ms/step\n",
      "\n",
      "Metrics in Original Scale (°C):\n",
      "MAE: 1.59°C\n",
      "RMSE: 2.22°C\n",
      "======================================================================\n"
     ]
    }
   ],
   "source": [
    "# Make predictions\n",
    "y_pred_scaled = model.predict(X_test)\n",
    "\n",
    "# Inverse transform to original scale\n",
    "y_test_original = target_scaler.inverse_transform(y_test.reshape(-1, 1))\n",
    "y_pred_original = target_scaler.inverse_transform(y_pred_scaled)\n",
    "\n",
    "# Calculate metrics in original scale\n",
    "mae_original = np.mean(np.abs(y_test_original - y_pred_original))\n",
    "rmse_original = np.sqrt(np.mean((y_test_original - y_pred_original)**2))\n",
    "\n",
    "print(f\"\\nMetrics in Original Scale (°C):\")\n",
    "print(f\"MAE: {mae_original:.2f}°C\")\n",
    "print(f\"RMSE: {rmse_original:.2f}°C\")\n",
    "print(\"=\"*70)"
   ]
  },
  {
   "cell_type": "code",
   "execution_count": 27,
   "id": "95512a19",
   "metadata": {},
   "outputs": [
    {
     "data": {
      "image/png": "[encoded data removed]",
      "text/plain": [
       "<Figure size 1500x500 with 2 Axes>"
      ]
     },
     "metadata": {},
     "output_type": "display_data"
    }
   ],
   "source": [
    "fig, axes = plt.subplots(1, 2, figsize=(15, 5))\n",
    "\n",
    "# Loss\n",
    "axes[0].plot(history.history['loss'], label='Training Loss')\n",
    "axes[0].plot(history.history['val_loss'], label='Validation Loss')\n",
    "axes[0].set_title('Model Loss Over Epochs')\n",
    "axes[0].set_xlabel('Epoch')\n",
    "axes[0].set_ylabel('Loss (MSE)')\n",
    "axes[0].legend()\n",
    "axes[0].grid(True, alpha=0.3)\n",
    "\n",
    "# MAE\n",
    "axes[1].plot(history.history['mae'], label='Training MAE')\n",
    "axes[1].plot(history.history['val_mae'], label='Validation MAE')\n",
    "axes[1].set_title('Model MAE Over Epochs')\n",
    "axes[1].set_xlabel('Epoch')\n",
    "axes[1].set_ylabel('MAE')\n",
    "axes[1].legend()\n",
    "axes[1].grid(True, alpha=0.3)\n",
    "\n",
    "plt.tight_layout()\n",
    "plt.savefig('training_history.png', dpi=300, bbox_inches='tight')\n",
    "plt.show()\n"
   ]
  },
  {
   "cell_type": "code",
   "execution_count": 29,
   "id": "cf58f601",
   "metadata": {},
   "outputs": [
    {
     "data": {
      "image/png": "[encoded data removed]",
      "text/plain": [
       "<Figure size 1500x1200 with 4 Axes>"
      ]
     },
     "metadata": {},
     "output_type": "display_data"
    }
   ],
   "source": [
    "fig, axes = plt.subplots(2, 2, figsize=(15, 12))\n",
    "\n",
    "# Scatter plot\n",
    "axes[0, 0].scatter(y_test_original, y_pred_original, alpha=0.5)\n",
    "axes[0, 0].plot([y_test_original.min(), y_test_original.max()], \n",
    "                [y_test_original.min(), y_test_original.max()], \n",
    "                'r--', lw=2)\n",
    "axes[0, 0].set_xlabel('Actual Temperature (°C)')\n",
    "axes[0, 0].set_ylabel('Predicted Temperature (°C)')\n",
    "axes[0, 0].set_title('Predicted vs Actual Temperature')\n",
    "axes[0, 0].grid(True, alpha=0.3)"
   ]
  },
  {
   "cell_type": "code",
   "execution_count": 30,
   "id": "9382ea5f",
   "metadata": {},
   "outputs": [],
   "source": [
    "residuals = y_test_original - y_pred_original\n",
    "axes[0, 1].scatter(y_pred_original, residuals, alpha=0.5)\n",
    "axes[0, 1].axhline(y=0, color='r', linestyle='--', lw=2)\n",
    "axes[0, 1].set_xlabel('Predicted Temperature (°C)')\n",
    "axes[0, 1].set_ylabel('Residuals (°C)')\n",
    "axes[0, 1].set_title('Residual Plot')\n",
    "axes[0, 1].grid(True, alpha=0.3)"
   ]
  },
  {
   "cell_type": "code",
   "execution_count": 31,
   "id": "18aefa49",
   "metadata": {},
   "outputs": [],
   "source": [
    "# Residual distribution\n",
    "axes[1, 0].hist(residuals, bins=50, edgecolor='black', alpha=0.7)\n",
    "axes[1, 0].set_xlabel('Residuals (°C)')\n",
    "axes[1, 0].set_ylabel('Frequency')\n",
    "axes[1, 0].set_title('Residual Distribution')\n",
    "axes[1, 0].axvline(x=0, color='r', linestyle='--', lw=2)\n",
    "axes[1, 0].grid(True, alpha=0.3)"
   ]
  },
  {
   "cell_type": "code",
   "execution_count": 32,
   "id": "bbe1b344",
   "metadata": {},
   "outputs": [
    {
     "data": {
      "text/plain": [
       "<Figure size 640x480 with 0 Axes>"
      ]
     },
     "metadata": {},
     "output_type": "display_data"
    }
   ],
   "source": [
    "# Time series sample (first 100 predictions)\n",
    "sample_size = min(100, len(y_test_original))\n",
    "axes[1, 1].plot(range(sample_size), y_test_original[:sample_size], \n",
    "                label='Actual', marker='o', markersize=3)\n",
    "axes[1, 1].plot(range(sample_size), y_pred_original[:sample_size], \n",
    "                label='Predicted', marker='x', markersize=3)\n",
    "axes[1, 1].set_xlabel('Sample Index')\n",
    "axes[1, 1].set_ylabel('Temperature (°C)')\n",
    "axes[1, 1].set_title('Sample Predictions (First 100)')\n",
    "axes[1, 1].legend()\n",
    "axes[1, 1].grid(True, alpha=0.3)\n",
    "\n",
    "plt.tight_layout()\n",
    "plt.savefig('prediction_analysis.png', dpi=300, bbox_inches='tight')\n",
    "plt.show()"
   ]
  },
  {
   "cell_type": "code",
   "execution_count": 33,
   "id": "7227564b",
   "metadata": {},
   "outputs": [],
   "source": [
    "import pickle"
   ]
  },
  {
   "cell_type": "code",
   "execution_count": 34,
   "id": "6349a5be",
   "metadata": {},
   "outputs": [
    {
     "name": "stderr",
     "output_type": "stream",
     "text": [
      "WARNING:absl:You are saving your model as an HDF5 file via `model.save()` or `keras.saving.save_model(model)`. This file format is considered legacy. We recommend using instead the native Keras format, e.g. `model.save('my_model.keras')` or `keras.saving.save_model(model, 'my_model.keras')`. \n"
     ]
    },
    {
     "name": "stdout",
     "output_type": "stream",
     "text": [
      "Model and preprocessing objects saved!\n",
      "\n",
      "Saved files:\n",
      "- global_weather_lstm_model.h5\n",
      "- global_weather_lstm_model.keras\n",
      "- feature_scaler.pkl\n",
      "- target_scaler.pkl\n",
      "- location_encoder.pkl\n",
      "- feature_names.pkl\n"
     ]
    }
   ],
   "source": [
    "# Save the model\n",
    "model.save('global_weather_lstm_model.h5')\n",
    "model.save('global_weather_lstm_model.keras')\n",
    "\n",
    "# Save scalers\n",
    "with open('feature_scaler.pkl', 'wb') as f:\n",
    "    pickle.dump(feature_scaler, f)\n",
    "\n",
    "with open('target_scaler.pkl', 'wb') as f:\n",
    "    pickle.dump(target_scaler, f)\n",
    "\n",
    "# Save location encoder\n",
    "with open('location_encoder.pkl', 'wb') as f:\n",
    "    pickle.dump(le_location, f)\n",
    "\n",
    "# Save feature names\n",
    "with open('feature_names.pkl', 'wb') as f:\n",
    "    pickle.dump(feature_cols_final, f)\n",
    "\n",
    "print(\"Model and preprocessing objects saved!\")\n",
    "print(\"\\nSaved files:\")\n",
    "print(\"- global_weather_lstm_model.h5\")\n",
    "print(\"- global_weather_lstm_model.keras\")\n",
    "print(\"- feature_scaler.pkl\")\n",
    "print(\"- target_scaler.pkl\")\n",
    "print(\"- location_encoder.pkl\")\n",
    "print(\"- feature_names.pkl\")"
   ]
  },
  {
   "cell_type": "code",
   "execution_count": 35,
   "id": "26d6ca11",
   "metadata": {},
   "outputs": [
    {
     "name": "stdout",
     "output_type": "stream",
     "text": [
      "Prediction function defined!\n",
      "\n",
      "Usage example:\n",
      "predicted_temp = predict_temperature(model, last_7_days_df, feature_scaler, target_scaler, feature_cols_final)\n"
     ]
    }
   ],
   "source": [
    "def predict_temperature(model, last_7_days_data, feature_scaler, target_scaler, feature_cols):\n",
    "    \"\"\"\n",
    "    Predict temperature for the next day\n",
    "    \n",
    "    Args:\n",
    "        model: Trained LSTM model\n",
    "        last_7_days_data: DataFrame with last 7 days of weather data\n",
    "        feature_scaler: Fitted StandardScaler for features\n",
    "        target_scaler: Fitted StandardScaler for target\n",
    "        feature_cols: List of feature column names\n",
    "    \n",
    "    Returns:\n",
    "        Predicted temperature in Celsius\n",
    "    \"\"\"\n",
    "    # Scale the input data\n",
    "    X_input = feature_scaler.transform(last_7_days_data[feature_cols])\n",
    "    X_input = X_input.reshape(1, 7, len(feature_cols))\n",
    "    \n",
    "    # Make prediction\n",
    "    y_pred_scaled = model.predict(X_input, verbose=0)\n",
    "    \n",
    "    # Inverse transform to original scale\n",
    "    y_pred = target_scaler.inverse_transform(y_pred_scaled)\n",
    "    \n",
    "    return y_pred[0][0]\n",
    "\n",
    "print(\"Prediction function defined!\")\n",
    "print(\"\\nUsage example:\")\n",
    "print(\"predicted_temp = predict_temperature(model, last_7_days_df, feature_scaler, target_scaler, feature_cols_final)\")"
   ]
  },
  {
   "cell_type": "code",
   "execution_count": 37,
   "id": "352eb443",
   "metadata": {},
   "outputs": [
    {
     "name": "stdout",
     "output_type": "stream",
     "text": [
      "\n",
      " Dataset:\n",
      "   - Total samples: 98,571\n",
      "   - Number of locations: 221\n",
      "   - Date range: 2024-05-16 01:45:00 to 2025-10-05 19:30:00\n",
      "   - Features used: 58\n",
      "\n",
      " Sequences:\n",
      "   - Sequence length: 7 days\n",
      "   - Total sequences: 97,024\n",
      "   - Training samples: 67,916\n",
      "   - Validation samples: 14,554\n",
      "   - Test samples: 14,554\n",
      "\n",
      " Model Architecture:\n",
      "   - Type: Stacked LSTM (3 layers)\n",
      "   - Parameters: 158,113\n",
      "   - Optimizer: Adam\n",
      "   - Loss: MSE\n",
      "\n",
      " Performance (Test Set):\n",
      "   - MAE: 1.59°C\n",
      "   - RMSE: 2.22°C\n",
      "\n",
      " Saved Files:\n",
      "   - Model: global_weather_lstm_model.keras\n",
      "   - Scalers and encoders: *.pkl files\n",
      "   - Visualizations: *.png files\n",
      "\n",
      " Model ready for temperature prediction!\n"
     ]
    }
   ],
   "source": [
    "print(f\"\\n Dataset:\")\n",
    "print(f\"   - Total samples: {df.shape[0]:,}\")\n",
    "print(f\"   - Number of locations: {len(locations)}\")\n",
    "print(f\"   - Date range: {df['last_updated'].min()} to {df['last_updated'].max()}\")\n",
    "print(f\"   - Features used: {len(feature_cols_final)}\")\n",
    "print(f\"\\n Sequences:\")\n",
    "print(f\"   - Sequence length: {SEQUENCE_LENGTH} days\")\n",
    "print(f\"   - Total sequences: {X_sequences.shape[0]:,}\")\n",
    "print(f\"   - Training samples: {X_train.shape[0]:,}\")\n",
    "print(f\"   - Validation samples: {X_val.shape[0]:,}\")\n",
    "print(f\"   - Test samples: {X_test.shape[0]:,}\")\n",
    "print(f\"\\n Model Architecture:\")\n",
    "print(f\"   - Type: Stacked LSTM (3 layers)\")\n",
    "print(f\"   - Parameters: {model.count_params():,}\")\n",
    "print(f\"   - Optimizer: Adam\")\n",
    "print(f\"   - Loss: MSE\")\n",
    "print(f\"\\n Performance (Test Set):\")\n",
    "print(f\"   - MAE: {mae_original:.2f}°C\")\n",
    "print(f\"   - RMSE: {rmse_original:.2f}°C\")\n",
    "print(f\"\\n Saved Files:\")\n",
    "print(f\"   - Model: global_weather_lstm_model.keras\")\n",
    "print(f\"   - Scalers and encoders: *.pkl files\")\n",
    "print(f\"   - Visualizations: *.png files\")\n",
    "print(\"\\n Model ready for temperature prediction!\")"
   ]
  }
 ],
 "metadata": {
  "kernelspec": {
   "display_name": "base",
   "language": "python",
   "name": "python3"
  },
  "language_info": {
   "codemirror_mode": {
    "name": "ipython",
    "version": 3
   },
   "file_extension": ".py",
   "mimetype": "text/x-python",
   "name": "python",
   "nbconvert_exporter": "python",
   "pygments_lexer": "ipython3",
   "version": "3.12.2"
  }
 },
 "nbformat": 4,
 "nbformat_minor": 5
}
